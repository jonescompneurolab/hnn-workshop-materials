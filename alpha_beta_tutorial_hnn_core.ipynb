{
 "cells": [
  {
   "cell_type": "markdown",
   "metadata": {},
   "source": [
    "# Welcome to the HNN-Core Alpha and Beta tutorial\n",
    "\n",
    "## Getting Started\n",
    "This tutorial follows the [HNN-GUI tutorial](https://jonescompneurolab.github.io/hnn-tutorials/alpha_and_beta/alpha_and_beta) with python commands instead of through a graphical user interface. We'll begin with some background on the experimental data used in this tutorial, and then give you a quick introduction to the HNN-Core API. Finally, we'll show you how to adjusting model parameters to test specific hypotheses using HNN simulations.\n",
    "\n",
    "In order to understand the workflow and initial parameter sets provided with this tutorial, we must first briefly describe prior studies that led to the creation of the data you will aim to simulate. This tutorial is based on results from Jones et al. 2009 where, using MEG, we recorded spontaneous (pre-stimulus) alpha (7-14 Hz) and beta (15-20 Hz) rhythms that arise as part of the mu-complex from the primary somatosensory cortex (S1) [1]. (Figure 1. See also [2-4].)\n",
    "\n",
    "<div class=\"stylefig\">\n",
    "\n",
    "### Figure 1\n",
    "\n",
    "<a href=\"https://raw.githubusercontent.com/jonescompneurolab/hnn-tutorials/master/alpha_and_beta/images/image3.png\"><img class=\"imgcenter100\" src=\"https://raw.githubusercontent.com/jonescompneurolab/hnn-tutorials/master/alpha_and_beta/images/image3.png\" alt=\"image8\" style=\"max-width:650px;\"/></a>\n",
    "\n",
    "<p style=\"text-align:justify;\">  Left: Spectrogram of spontaneous activity from current dipole source in SI averaged across 100 trials, from an example subject, shows nearly continuous prestimulus alpha and beta oscillations. At time zero, a brief tap was given to the contralateral finger tip and the spontaneous oscillations briefly desynchronized.\n",
    "\n",
    "Right: A closer look at the prestimulus waveform and spectrogram from spontaneous activity during example signal trials, shows that the alpha and beta oscillations occur intermittently and primarily non-overlapping. </p>\n",
    "</div>\n",
    "\n",
    "Our goal was to use our neocortical model to reproduce features of the waveform and spectrogram observed on single unaveraged trials (Figure 2 top panel, right) where the alpha and beta components emerge briefly and intermittently in time. On any individual trial (i.e., 1 second of spontaneous data), the presence of alpha and beta activity is not time locked and representative of so-called “induced” activity. Seemingly continuous bands of activity occur only when averaging the spectrograms across trials (Figure 2 top panel, left), and this is due to the fact that the spectrograms values are strictly positive and the alpha and beta events accumulate without cancellation [4].\n",
    "\n",
    "<div class=\"stylefig\">\n",
    "\n",
    "### Figure 2\n",
    "\n",
    "<a href=\"https://raw.githubusercontent.com/jonescompneurolab/hnn-tutorials/master/alpha_and_beta/images/image29.png\"><img class=\"imgcenter100\" src=\"https://raw.githubusercontent.com/jonescompneurolab/hnn-tutorials/master/alpha_and_beta/images/image29.png\" alt=\"image8\" style=\"max-width:650px;\"/></a>\n",
    "\n",
    "<p style=\"text-align:justify;\"> Key features of the spontaneous non-average SI alpha/beta complex include, intermittent transient bouts of alpha/beta activity, a waveform that oscillates around 0nAm, PSD with peaks in the alpha and beta bands, primarily non-overlapping alpha and beta events, and a symmetric waveform oscillation. The model was able to reproduce each of these features. </p>\n",
    "</div>\n",
    "\n",
    "We found that a sequence of exogenous subthreshold excitatory synaptic drive could activate the network in a manner that reproduced important features of the SI rhythms in the model (Figure 2). This drive consisted of two nearly-synchronous 10 Hz rhythmic drives that contacted the network through proximal and distal projection pathways (Figure 3). The drives were simulated as population “bursts” of action potentials that contacted the network every 100ms with the mean delay between the proximal and distal burst of 0ms. Specifically, as shown schematically in Figure 3, the population bursts consisted of 10, 2-spike bursts Gaussian distributed in time. We presumed that during such spontaneous activity, these drives may be provided by leminscial and non-lemniscal thalamic nuclei, which contact proximal and distal pyramidal neurons respectively, and they are know to burst fire at  ~10 Hz frequencies in spontaneous states [5,6].\n",
    "\n",
    "<div class=\"stylefig\">\n",
    "\n",
    "### Figure 3\n",
    "\n",
    "<a href=\"https://raw.githubusercontent.com/jonescompneurolab/hnn-tutorials/master/alpha_and_beta/images/image4.png\"><img class=\"imgcenter100\" src=\"https://raw.githubusercontent.com/jonescompneurolab/hnn-tutorials/master/alpha_and_beta/images/image4.png\" alt=\"image8\" style=\"max-width:650px;\"/></a>\n",
    "\n",
    "<p style=\"text-align:justify;\"> Schematic illustration of exogenous 10 Hz burst drive through proximal and distal projection pathways.  “Population bursts”, consisting of a set number of “burst units” (10, 2-spike bursts shown) drive post-synaptic conductances in the local network with a set frequency (100 ms ISI) and mean delay between proximal and distal. </p>\n",
    "</div>\n",
    "\n",
    "We assumed that the macroscale rhythms generating the observed alpha and beta activity arose from subthreshold current flow in a large population of neurons, as opposed to being generated by local spiking interaction. As such, the effective strengths of the exogenous driving inputs were tuned so that the cells in the network remained subthreshold (all other parameters were tuned and fixed base on the morphology, physiology and connectivity within layered neocortical circuits, see Jones et al. 2009 [1] for details). The inputs drove subthreshold currents up and down the pyramidal neurons to reproduce accurate waveform and spectrogram features (see Figure 3). A scaling factor of 3000 was multiplied by the model waveform to reproduce nAm units comparable to the recorded data, suggesting on the order 200 x 3000 = 600,000 pyramidal neurons contributed to this signal.\n",
    "\n",
    "We further found that decreasing the delay between the drives to ~50ms created a pure alpha oscillation, while applying an ~0ms delay caused beta events to emerge and increased the strength of the distal drive, creating stronger beta activity (data not shown; see parameter exploration below). This result led to the novel prediction that brief beta events emerge from a broad proximal drive disrupted by a simultaneous strong distal drive that lasted 50ms (i.e., one beta period). Support for this prediction was found invasively with laminar recordings in mice and monkeys [3].\n",
    "\n",
    "In this tutorial, we will explore parameter changes that illustrate these results. We will walk you step-by-step through simulations with various combinations of rhythmic proximal and distal drives to describe how each contributes to the alpha and beta components of the SI alpha/beta complex rhythm. We will begin by simulating only rhythmic proximal alpha frequency inputs (Step 1), followed by simulating only distal alpha frequency inputs (Step 2), followed by various combinations of proximal and distal drive to generate alpha and beta rhythms. We’ll show you how HNN can plot waveforms, time-frequency spectrograms, and power spectral density plots of the simulated data, as well as for imported recorded data.\n",
    "\n",
    "### References\n",
    "1. Jones, S. R. et al.Quantitative analysis and biophysically realistic neural modeling of the MEG mu rhythm: rhythmogenesis and modulation of sensory-evoked responses. J. Neurophysiol. 102, 3554–3572 (2009).\n",
    "\n",
    "2. Ziegler, D. A. et al.Transformations in oscillatory activity and evoked responses in primary somatosensory cortex in middle age: a combined computational neural modeling and MEG study. Neuroimage 52, 897–912 (2010).\n",
    "\n",
    "3. Sherman, M. A. et al.Neural mechanisms of transient neocortical beta rhythms: Converging evidence from humans, computational modeling, monkeys, and mice. Proc. Natl. Acad. Sci. U. S. A. 113, E4885–94 (2016).\n",
    "\n",
    "4. Jones, S. R. When brain rhythms aren’t ‘rhythmic’: implication for their mechanisms and meaning. Curr. Opin. Neurobiol. 40, 72–80 (2016).\n",
    "\n",
    "5. Jones, E. G. The thalamic matrix and thalamocortical synchrony. Trends Neurosci. 24, 595–601 (2001).\n",
    "\n",
    "6. Hughes, S. W. & Crunelli, V. Thalamic mechanisms of EEG alpha rhythms and their pathological implications. Neuroscientist 11, 357–372 (2005).\n"
   ]
  },
  {
   "cell_type": "markdown",
   "metadata": {},
   "source": [
    "## 0. Importing python libraries and loading data"
   ]
  },
  {
   "cell_type": "code",
   "execution_count": null,
   "metadata": {},
   "outputs": [],
   "source": [
    "import os.path as op\n",
    "\n",
    "import numpy as np\n",
    "import matplotlib.pyplot as plt\n",
    "\n",
    "import hnn_core\n",
    "from hnn_core import jones_2009_model, simulate_dipole, MPIBackend, JoblibBackend, average_dipoles\n",
    "from hnn_core.viz import plot_dipole, plot_tfr_morlet, plot_psd"
   ]
  },
  {
   "cell_type": "markdown",
   "metadata": {},
   "source": [
    "## 1. Simulating Rhythmic Proximal Inputs: Alpha Only\n",
    "\n",
    "As described in the introduction, low-frequency alpha and beta rhythms can be simulated by a combination of rhythmic subthreshold proximal and distal ~10Hz inputs. Here, we begin by describing the impact of proximal inputs only.\n",
    "\n",
    "### 1.1 Define network and drives\n",
    "Let's start with instantiating our network. We will give it the unique name `net_alpha_prox` so that we can compare it with simulation results later on."
   ]
  },
  {
   "cell_type": "code",
   "execution_count": null,
   "metadata": {},
   "outputs": [],
   "source": [
    "net_alpha_prox = jones_2009_model()"
   ]
  },
  {
   "cell_type": "markdown",
   "metadata": {},
   "source": [
    "There are AMPA and NMDA receptors on each cell type (pyramidal and basket cells). There is also a delay parameter to control the arrival time of each spike to the network. In this example, the delay to the layer 2/3 cells is 0.1 ms, with a slightly longer delay to the layer 5 cells of 1 ms."
   ]
  },
  {
   "cell_type": "code",
   "execution_count": null,
   "metadata": {},
   "outputs": [],
   "source": [
    "weights_ampa_p = {'L2_pyramidal': 5.4e-5, 'L5_pyramidal': 5.4e-5}\n",
    "syn_delays_p = {'L2_pyramidal': 0.1, 'L5_pyramidal': 1.0}"
   ]
  },
  {
   "cell_type": "markdown",
   "metadata": {},
   "source": [
    "The rhythmic proximal inputs drive excitatory synapses in the neocortical network in a proximal projection pattern, as shown at the bottom of the dialog box. For further details on the connectivity structure of the network, see the Under the Hoodsection of the HNN website. Rhythmic proximal input occurs through stochastic, presynaptic bursts of action potentials from a population of bursting cells (set with “Number bursts”; see Figure 3) onto postsynaptic neurons of the modelled network. Stochasticity is introduced in two places: the spike train start time for each bursting cell is sampled from a normal distribution with mean “Start time mean (ms)” and standard deviation “Start time stdev (ms)” and the inter-burst intervals for each bursting cell are sampled from a normal distribution of mean $\\frac{1}{\\mathrm{\"Burst Frequency\"}}$ (e.g., a 100 ms inter-burst interval corresponds to a “Burst frequency” of 10 Hz) and standard deviation “Burst stdev (ms)” (see Figure 3). Also note that the number of spikes per burst unit is set with “Spikes/burst” (currently, only values of 1 and 2 with a fixed 10ms delay can be used) and the final stop time for the entire population of rhythmic proximal inputs is set with “Stop time (ms)”."
   ]
  },
  {
   "cell_type": "code",
   "execution_count": null,
   "metadata": {},
   "outputs": [],
   "source": [
    "net_alpha_prox.add_bursty_drive(\n",
    "    'alpha_prox', tstart=50., burst_rate=10, burst_std=20, numspikes=2,\n",
    "    spike_isi=10, n_drive_cells=10, location='proximal',\n",
    "    weights_ampa=weights_ampa_p, synaptic_delays=syn_delays_p, event_seed=14)"
   ]
  },
  {
   "cell_type": "markdown",
   "metadata": {},
   "source": [
    "We can check that the drives have been added by looking at"
   ]
  },
  {
   "cell_type": "code",
   "execution_count": null,
   "metadata": {},
   "outputs": [],
   "source": [
    "net_alpha_prox.external_drives"
   ]
  },
  {
   "cell_type": "markdown",
   "metadata": {},
   "source": [
    "### 1.2 Run the simulation and visualize net current dipole\n",
    "Now, we simulate the dipole with just one trial for now"
   ]
  },
  {
   "cell_type": "code",
   "execution_count": null,
   "metadata": {},
   "outputs": [],
   "source": [
    "dpl_alpha_prox = simulate_dipole(net_alpha_prox, tstop=710.0, n_trials=1)"
   ]
  },
  {
   "cell_type": "markdown",
   "metadata": {},
   "source": [
    "The simulation is a bit slow. If we want to speed it up, we can use MPI. It's a protocol that splits the simulation across neurons. You might need to follow a few extra installation steps to install MPI dependencies if you wish to run `MPIBackend` on your machine (see [here](https://jonescompneurolab.github.io/hnn-core/stable/parallel.html))."
   ]
  },
  {
   "cell_type": "code",
   "execution_count": null,
   "metadata": {},
   "outputs": [],
   "source": [
    "# simulate dipole with a specific parallel backend (1 trial)\n",
    "# we'll use MPIBackend for the remainder of this tutorial as it is the fastest\n",
    "with MPIBackend(n_procs=4):\n",
    "    dpl_alpha_prox = simulate_dipole(net_alpha_prox, tstop=710.0, n_trials=1)\n",
    "    \n",
    "# If you don't have the OpenMPI and mpi4py installed on you machine,\n",
    "# you can alternatively use JoblibBackend (uncomment lines below)\n",
    "# with JoblibBackend(n_jobs=1):\n",
    "#    dpls = simulate_dipole(net, tstop=710.0, n_trials=1)"
   ]
  },
  {
   "cell_type": "markdown",
   "metadata": {},
   "source": [
    "To help visualize simulation results, hnn-core comes equipped with several visualization functions. You can learn more about the in built plotting functions by browsing some of the examples [here](https://jonescompneurolab.github.io/hnn-core/stable/auto_examples/index.html). For now, we are going to utilize the `plot_spike_hist`, `plot_dipole`, and `plot_tfr_morlet` functions. Let's package these into a function so that we can reuse to visualize simulation results later on."
   ]
  },
  {
   "cell_type": "code",
   "execution_count": null,
   "metadata": {},
   "outputs": [],
   "source": [
    "def simulation_plots(net, dpl):\n",
    "    # Set up 3 panel figure\n",
    "    fig, axes = plt.subplots(3, 1, sharex=True, figsize=(7, 7), constrained_layout=True)\n",
    "\n",
    "    # Plot histogram of proximal and distal drive spike times\n",
    "    net.cell_response.plot_spikes_hist(ax=axes[0], show=False)\n",
    "    axes[0].set_title('Input Histogram')\n",
    "\n",
    "    # Plot aggregate current dipole\n",
    "    plot_dipole(dpl, ax=axes[1], layer='agg', show=False)\n",
    "    \n",
    "    # Plot spectrogram with frequencies from 6 to 60 Hz in steps of 1 Hz\n",
    "    freqs = np.arange(6.0, 60.0, 1.0)\n",
    "    dpl[0].plot_tfr_morlet(freqs, n_cycles=7, ax=axes[2])\n",
    "    axes[2].set_title('Spectrogram')"
   ]
  },
  {
   "cell_type": "markdown",
   "metadata": {},
   "source": [
    "From now on all we have to do is call the function with the `Network` and `Dipole` objects to make our plots."
   ]
  },
  {
   "cell_type": "code",
   "execution_count": null,
   "metadata": {},
   "outputs": [],
   "source": [
    "simulation_plots(net_alpha_prox, dpl_alpha_prox)"
   ]
  },
  {
   "cell_type": "markdown",
   "metadata": {},
   "source": [
    "In this parameter set, a burst of proximal input spikes is provided to the network ~10 Hz (i.e., every 100 ms). Due to the stochastic nature of the inputs (controlled by the start time stdev and Burst stdev parameters, there is some variability in the histogram of proximal input times. Note that a decrease in the Burst stdev would create shorter duration bursts (i.e., more synchronous bursts); this will be explored further in step 6.1 below.\n",
    "\n",
    "The ~10 Hz bursts of proximal drive induces current flow up the pyramidal neuron dendrites increasing the signal above the 0 nAm baseline, which then relaxes back to zero, approximately every 100 ms. This is observed in the black current dipole waveform in the GUI window. The middle panel shows the corresponding time-frequency spectrogram for this waveform that exhibits a high-power continuous 10 Hz signal. Importantly, in this example the strength of the proximal input was titrated to be subthreshold (i.e., cells do not spike) under the assumption that macroscale oscillations are generated primarily by subthreshold current flow across large populations of synchronous pyramidal neurons. In step 6.2 below, we explore differences in the signal when the cells are driven to spike (see also ERP tutorial).\n",
    "\n",
    "While this exploration with proximal drive is only useful in understanding how subthreshold rhythmic inputs impact the current dipole produced by the circuit, several features of the waveform and spectrogram of the signal do not match the recorded data shown in Figures 1and 2. Next, we explore the impact of rhythmic distal inputs only (step 2), and then a combination of the two (step 3)."
   ]
  },
  {
   "cell_type": "markdown",
   "metadata": {},
   "source": [
    "## 2. Simulating Rhythmic Distal Inputs: Alpha Only\n",
    "Having seen that proximal inputs alone push the current flow only in a single direction (positive), we can confirm that the same occurs if we provide only rhythmic distal inputs, which drive current flow in the pyramidal neuron dendrites, and hence current dipole signal, in the opposite direction (negative).\n",
    "\n",
    "### 2.1 Define network and drives\n",
    "We begin again by instantiating the network."
   ]
  },
  {
   "cell_type": "code",
   "execution_count": null,
   "metadata": {},
   "outputs": [],
   "source": [
    "net_alpha_dist = jones_2009_model()"
   ]
  },
  {
   "cell_type": "code",
   "execution_count": null,
   "metadata": {},
   "outputs": [],
   "source": [
    "weights_ampa_d = {'L2_pyramidal': 5.4e-5, 'L5_pyramidal': 5.4e-5}\n",
    "syn_delays_d = {'L2_pyramidal': 5.0, 'L5_pyramidal': 5.0}\n",
    "\n",
    "net_alpha_dist.add_bursty_drive(\n",
    "    'alpha_dist', tstart=50.0, burst_rate=10, burst_std=20, numspikes=2,\n",
    "    spike_isi=10, n_drive_cells=10, location='distal',\n",
    "    weights_ampa=weights_ampa_d, synaptic_delays=syn_delays_d, event_seed=14) # Need different seed?"
   ]
  },
  {
   "cell_type": "markdown",
   "metadata": {},
   "source": [
    "### 2.2 Run the simulation and visualize net current dipole\n",
    "Now we simulate the dipole."
   ]
  },
  {
   "cell_type": "code",
   "execution_count": null,
   "metadata": {},
   "outputs": [],
   "source": [
    "with MPIBackend(n_procs=4):\n",
    "    dpl_alpha_dist = simulate_dipole(net_alpha_dist, tstop=710.0, n_trials=1)"
   ]
  },
  {
   "cell_type": "markdown",
   "metadata": {},
   "source": [
    "We can use the in built plotting functions of hnn-core to visualize the simulated dipole."
   ]
  },
  {
   "cell_type": "code",
   "execution_count": null,
   "metadata": {},
   "outputs": [],
   "source": [
    "simulation_plots(net_alpha_dist, dpl_alpha_dist)"
   ]
  },
  {
   "cell_type": "markdown",
   "metadata": {},
   "source": [
    "As shown in the green histogram in the top panel of figure above, with this parameter set, a burst of distal input spikes is provided to the network ~10 Hz (i.e., every 100 ms). Due to the stochastic nature of the inputs (controlled by the start time stdev, and Burst stdev parameters), there is some variability in the histogram of proximal input times. The ~10 Hz bursts of distal input induces current flow down the pyramidal neuron dendrites decreasing the signal below the 0 nAm baseline, which then relaxes back to zero, approximately every 100 ms. This is observed in the black current dipole waveform in the figure. The middle panel shows the corresponding time-frequency spectrogram for this waveform that exhibits a high power continuous 10 Hz signal. Importantly, in this example the strength of the distal input was also titrated to be subthreshold (i.e., cells do not spike) under the assumption that macroscale oscillations are generated primarily by subthreshold current flow across large populations of synchronous pyramidal neurons.  \n",
    "\n",
    "While instructional, this simulation also does not produce waveform and spectral features that match the experimental data in Figures 1 and 2. In the next step (step 3), we describe how combining both the 10 Hz proximal and distal drives can produce an oscillation with many characteristic features of the spontaneous SI signal (Jones et al 2009)."
   ]
  },
  {
   "cell_type": "markdown",
   "metadata": {},
   "source": [
    "## 3. Simulating Combined Rhythmic Proximal and Distal Inputs: Alpha/Beta Complex\n",
    "In this simulation, the Start time mean (ms) values for both proximal and distal inputs are set to 50.0 ms, and all other parameters are the same. Note that the synaptic weights are the same as used in the previous two simulations. The equal start time implies that the proximal and distal input bursts will arrive nearly synchronously to the network on each cycle of the 10 Hz input. Due to the stochasticity in the parameters (start time stdev, and Burst stdev) sometimes the bursts will arrive together and sometimes there will be a slight delay. As will be described further below, this stochasticity creates intermittent alpha and beta events.\n",
    "\n",
    "### 3.1 Define network and drives\n",
    "We begin by instantiating the network, and adding drives with the same functions as above. Note that the $\\texttt{event\\_seed}$ parameter must be changed, otherwise the spike times of the proximal and distal drive would be identical."
   ]
  },
  {
   "cell_type": "code",
   "execution_count": null,
   "metadata": {},
   "outputs": [],
   "source": [
    "net_alpha_sync = jones_2009_model()\n",
    "\n",
    "net_alpha_sync.add_bursty_drive(\n",
    "    'alpha_prox', tstart=50., burst_rate=10, burst_std=20, numspikes=2,\n",
    "    spike_isi=10, n_drive_cells=10, location='proximal',\n",
    "    weights_ampa=weights_ampa_p, synaptic_delays=syn_delays_p, event_seed=10)\n",
    "\n",
    "net_alpha_sync.add_bursty_drive(\n",
    "    'alpha_dist', tstart=50.0, burst_rate=10, burst_std=20, numspikes=2,\n",
    "    spike_isi=10, n_drive_cells=10, location='distal',\n",
    "    weights_ampa=weights_ampa_d, synaptic_delays=syn_delays_d, event_seed=14)"
   ]
  },
  {
   "cell_type": "markdown",
   "metadata": {},
   "source": [
    "### 3.2 Run the simulation and visualize net current dipole"
   ]
  },
  {
   "cell_type": "code",
   "execution_count": null,
   "metadata": {},
   "outputs": [],
   "source": [
    "with MPIBackend(n_procs=4):\n",
    "    dpl_alpha_sync = simulate_dipole(net_alpha_sync, tstop=710.0, n_trials=1)"
   ]
  },
  {
   "cell_type": "code",
   "execution_count": null,
   "metadata": {},
   "outputs": [],
   "source": [
    "simulation_plots(net_alpha_sync, dpl_alpha_sync)"
   ]
  },
  {
   "cell_type": "markdown",
   "metadata": {},
   "source": [
    "As shown in the green and red histogram in the top panel of the figure above, with this parameter set, bursts of both proximal and distal input spikes are provided to the network ~10 Hz (i.e., every 100 ms). Due to the stochastic nature of the inputs, there is some variability in the timing and duration of the input bursts such that sometimes they arrive at the same time and sometimes there is a slight offset between them. As a result, intermittent transient alpha and beta  events emerge in the time-frequency spectrogram. Alpha events are produced when the inputs occur slightly out of phase and current flow is pushed alternately up and down the dendrites for ~50 ms duration each (set by the length of the bursts inputs). Beta events occur when the burst inputs arrive more synchronously and the upward current flow is disrupted by downward current flow for ~50 ms to effectively cut the oscillation period in half. As such, the relative alpha to beta expression can be controlled by the delay between the inputs and their relative burst strengths. We will detail this further below (see step 6 below).\n",
    "\n",
    "In contrast to the results from only proximal or distal input, since the current in the pyramidal neurons is pushed both upward and downward in this simulation, the current dipole signal oscillates above and below 0 nAm, which qualitatively matches the experimental data (see Figures 1 and 2 in “Getting Started”). Additionally, this simulation reproduces the transient nature of the alpha and beta activity and several other features of the waveform and spectrogram can be quantified to show close agreement between model and experimental results (see Figure 2 above, and Jones et al. 2009[1], for further details). \n",
    "\n",
    "We note that here we do not directly compare the spontaneous current dipole waveform to recorded data, as was done in the ERP tutorial with a root mean squared error. This is due to the fact that the spontaneous SI signal we are simulating is not time locked to  alpha or beta events on any given trial, and the stochastic nature of the driving inputs causes variability in the timing of the alpha or beta activity, making it difficult to align recorded data and simulated results. However, a direct comparison can be made between time averaged recorded and simulated signals by comparing power spectral density waveforms. An example of comparison is shown in step 5 below."
   ]
  },
  {
   "cell_type": "markdown",
   "metadata": {},
   "source": [
    "### 3.3 Simulating and averaging multiple trials with jittered start times creates the impression of continuous oscillations\n",
    "As described in the “Getting Started” section above, our simulation goal was to study the mechanisms that reproduce features of spontaneous alpha and beta rhythms observed in un-averaged data, where the alpha and beta components are transient and intermittent (Figure 1, right panel). Each tutorial step up to this point was based on simulating un-averaged data. Here, we describe how to run and average multiple “trials” (700 ms epochs of spontaneous activity). We show that, due to the stochastic nature of the proximal and distal rhythmic input, controlled by the standard deviation (stdev) of the start times, and the stdev of the input bursts), when running multiple trials, the precise timing of the input bursts on each trial is jittered, and hence the alpha and beta activity in the spectrograms on each trial is jittered. This is akin to simulating induced rhythms rather than time-locked evoked rhythms. In the averaged spectrogram across trials, the alpha and beta events accumulate without cancellation (due to the fact that spectrogram value are purely positive) creating the impression of a continuous oscillation (Figure 1, left panel).\n",
    "\n",
    "Below we illustrate the effects of “jitter” in the proximal and distal rhythmic inputs across trials in two ways. First, we examine the effects of “jitter” due to the “Burst stdev”, and second due to the “Start time stdev”).\n",
    "\n",
    "To first test the effects of jittering due to “Burst stdev” and averaging across trials,  we will use a drive configuration with rhythmic proximal and distal inputs provided at 10 Hz, with proximal and distal inputs in phase. These are the same parameters as Step 3.2 above, but now with 10 trials instead of 1."
   ]
  },
  {
   "cell_type": "code",
   "execution_count": null,
   "metadata": {},
   "outputs": [],
   "source": [
    "net_alpha_trials = jones_2009_model()\n",
    "\n",
    "net_alpha_trials.add_bursty_drive(\n",
    "    'alpha_prox', tstart=50.0, tstart_std=50.0, burst_rate=10, burst_std=20, numspikes=2,\n",
    "    spike_isi=10, n_drive_cells=10, location='proximal',\n",
    "    weights_ampa=weights_ampa_p, synaptic_delays=syn_delays_p, event_seed=10)\n",
    "\n",
    "net_alpha_trials.add_bursty_drive(\n",
    "    'alpha_dist', tstart=50.0, tstart_std=50.0, burst_rate=10, burst_std=20, numspikes=2,\n",
    "    spike_isi=10, n_drive_cells=10, location='distal',\n",
    "    weights_ampa=weights_ampa_d, synaptic_delays=syn_delays_d, event_seed=14)\n",
    "    \n",
    "with MPIBackend(n_procs=4):\n",
    "    dpl_alpha_trials = simulate_dipole(net_alpha_trials, tstop=710.0, n_trials=10)"
   ]
  },
  {
   "cell_type": "code",
   "execution_count": null,
   "metadata": {},
   "outputs": [],
   "source": [
    "simulation_plots(net_alpha_trials, dpl_alpha_trials)"
   ]
  },
  {
   "cell_type": "markdown",
   "metadata": {},
   "source": [
    "Notice that the input histograms for distal (green) and proximal (red) input accumulated across the 10 trials, now have higher values than before (up to ~20 compared to 5 in Step 3.2) and the burst inputs are slightly broader on each cycle, since these histograms represent the accumulated activity from 10 simulations, where the standard deviation in the Burst duration across trials is 20 ms. Approximately 10 Hz rhythmicity in the timing of the distal and proximal inputs can be clearly visualized (note also the symmetric profile of the histograms). However, on any individual trial, the coincidence of inputs leading to alpha or beta events displays some variability due to the stochastic parameter value (Burst stdev=20 ms). This is observed in the dipole waveforms shown for each trial (example shown below). The spectrogram shown in the GUI window is now created by calculating the spectrogram from each of the 10 trials separately, then averaging the 10 spectrograms. Importantly, this is not the spectrogram of the average of the dipole waveforms. The averaged spectrogram above shows more continuous bands of alpha and beta activity than for a single trial (compare to spectrogram in Step 3). Running more trials will increase the appearance of continuous rhythms.\n",
    "\n",
    "In the next simulation, we will jitter the start times of rhythmic inputs across trials with the Start time stdev, in addition to a non-zero Burst stdev. This will add additional variability to the timing of the transient alpha and beta events on each trial, and hence produce even more continuous bands of activity in the averaged spectrogram."
   ]
  },
  {
   "cell_type": "code",
   "execution_count": null,
   "metadata": {},
   "outputs": [],
   "source": [
    "net_alpha_jitter = jones_2009_model()\n",
    "\n",
    "net_alpha_jitter.add_bursty_drive(\n",
    "    'alpha_prox', tstart=50.0, tstart_std=50.0, burst_rate=10, burst_std=20, numspikes=2,\n",
    "    spike_isi=10, n_drive_cells=10, location='proximal',\n",
    "    weights_ampa=weights_ampa_p, synaptic_delays=syn_delays_p, event_seed=10)\n",
    "\n",
    "net_alpha_jitter.add_bursty_drive(\n",
    "    'alpha_dist', tstart=50.0, tstart_std=50.0, burst_rate=10, burst_std=20, numspikes=2,\n",
    "    spike_isi=10, n_drive_cells=10, location='distal',\n",
    "    weights_ampa=weights_ampa_d, synaptic_delays=syn_delays_d, event_seed=14)\n",
    "\n",
    "with MPIBackend(n_procs=4):\n",
    "    dpl_alpha_jitter = simulate_dipole(net_alpha_jitter, tstop=710.0, n_trials=10)"
   ]
  },
  {
   "cell_type": "code",
   "execution_count": null,
   "metadata": {},
   "outputs": [],
   "source": [
    "simulation_plots(net_alpha_jitter, dpl_alpha_jitter)"
   ]
  },
  {
   "cell_type": "markdown",
   "metadata": {},
   "source": [
    "Notice that the input histograms for distal (green) and proximal (red) input accumulated across the 10 trials now show little rhythmicity due to the jitter in the rhythmic input start times across trials (Start time stdv (ms) = 50), in addition to jitter due to the Burst stdev (ms) = 20. However, if we were to visualize histograms on each individual trial (using the View spectrograms tab), they would show the ~10 Hz and 20 Hz (alpha and beta) rhythmicity. It is also difficult to visualize rhythmicity in any of the overlaid dipole waveforms. However, on each trial, alpha and beta rhythmicity is present, and even more continuous bands of alpha and beta activity are observed (compare to averaged data in Figure 1 left panel; n=100 trials) when the spectrograms from individual trials are averaged. Running more trials will further increase the continuous nature of alpha and beta activity across time."
   ]
  },
  {
   "cell_type": "markdown",
   "metadata": {},
   "source": [
    "## 4. Calculating and Viewing Power Spectral Density (PSD)"
   ]
  },
  {
   "cell_type": "markdown",
   "metadata": {},
   "source": [
    "HNN provides a feature to calculate and view the power spectral density (PSD) of the simulated signal and imported data (Note: the PSD is calculated as the time average of the spectrogram, in the simulation examples)."
   ]
  },
  {
   "cell_type": "code",
   "execution_count": null,
   "metadata": {},
   "outputs": [],
   "source": [
    "plot_psd(dpl_alpha_jitter, fmin=1.0, fmax=1e3, show=False)"
   ]
  },
  {
   "cell_type": "markdown",
   "metadata": {},
   "source": [
    "## 5. Comparing model output and recorded data"
   ]
  },
  {
   "cell_type": "markdown",
   "metadata": {},
   "source": [
    "We can also use HNN to compare model-generated to empirical PSD, which represents the averaged activity across time. As discussed above, HNN does not provide means to directly compare spontaneous time domain rhythmic waveforms to data, due to the fact that spontaneous rhythms are not time linked to specific events making it difficult to align recorded data and simulated results. However, a direct comparison can be made between time averaged recorded and simulated signals by comparing PSD plots. To do so, you will need time-series of MEG data in a format that HNN can read (more details on this are provided in the Viewing Datatutorial). The S1_ongoing.txt file will be used in the following example (note: S1_ongoing.txt is also provided with HNN in its data/MEG_detection_data sub-folder). This file contains raw data source localized to SI from the 1 second prestimulus period before a tactile stimulus, during the tactile detection experiment described in the “Getting Started” section above[1]. The data was collected at 600 Hz. (Note, when loading your own data, if it was not collected at 600 Hz, you must first downsample to 600 Hz to run a frequency analysis and view it in the HNN GUI.)"
   ]
  },
  {
   "cell_type": "code",
   "execution_count": null,
   "metadata": {},
   "outputs": [],
   "source": [
    "from urllib.request import urlretrieve\n",
    "data_url = ('https://raw.githubusercontent.com/jonescompneurolab/hnn/master/data/MEG_detection_data/S1_ongoing.txt')\n",
    "urlretrieve(data_url, 'S1_ongoing.txt')"
   ]
  },
  {
   "cell_type": "code",
   "execution_count": null,
   "metadata": {},
   "outputs": [],
   "source": []
  },
  {
   "cell_type": "markdown",
   "metadata": {},
   "source": [
    "In this example, there is strong similarity in the shape and amplitude of the PSD generated by the model (bottom white traces) and the PSD from experimental MEG data (bottom violet traces)."
   ]
  },
  {
   "cell_type": "code",
   "execution_count": null,
   "metadata": {},
   "outputs": [],
   "source": []
  },
  {
   "cell_type": "markdown",
   "metadata": {},
   "source": [
    "Notice that as shown in the “Getting Started” section above (Figure 1), this single trial example of spontaneous SI data exhibits non-continuous brief alpha and beta events. Since these data are spontaneous and non-time locked, it would be difficult to directly compare to simulated data. Instead, we compare qualitative features between data and simulation results, as in Figure 2 above. See also Step 6.4 below, where multiple trials of spontaneous SI data are simulated and averaged, producing more continuous bands of alpha and beta activity."
   ]
  },
  {
   "cell_type": "markdown",
   "metadata": {},
   "source": [
    "## 6. Adjusting parameters"
   ]
  },
  {
   "cell_type": "markdown",
   "metadata": {},
   "source": [
    "## 7. Have fun exploring your own data!"
   ]
  }
 ],
 "metadata": {
  "interpreter": {
   "hash": "d0efaeb1f57b331682f483338b2ece2b224a46046d22ccab062f7cb485953279"
  },
  "kernelspec": {
   "display_name": "Python 3.8.3 ('base')",
   "language": "python",
   "name": "python3"
  },
  "language_info": {
   "codemirror_mode": {
    "name": "ipython",
    "version": 3
   },
   "file_extension": ".py",
   "mimetype": "text/x-python",
   "name": "python",
   "nbconvert_exporter": "python",
   "pygments_lexer": "ipython3",
   "version": "3.8.3"
  },
  "orig_nbformat": 4
 },
 "nbformat": 4,
 "nbformat_minor": 2
}
