{
 "cells": [
  {
   "cell_type": "markdown",
   "metadata": {},
   "source": [
    "# Welcome to the HNN-Core Alpha and Beta tutorial\n",
    "This tutorial follows the [HNN-GUI tutorial](https://jonescompneurolab.github.io/hnn-tutorials/alpha_and_beta/alpha_and_beta) with python commands instead of through a graphical user interface. We'll begin with some background on the experimental data used in this tutorial, and then give you a quick introduction to the HNN-Core API. Finally, we'll show you how to adjusting model parameters to test specific hypotheses using HNN simulations.\n",
    "\n",
    "In order to understand the workflow and initial parameter sets provided with this tutorial, we must first briefly describe prior studies that led to the creation of the data you will aim to simulate. This tutorial is based on results from Jones et al. 2009 where, using MEG, we recorded spontaneous (pre-stimulus) alpha (7-14 Hz) and beta (15-20 Hz) rhythms that arise as part of the mu-complex from the primary somatosensory cortex (S1) [1]. (Figure 1. See also [2-4].)\n",
    "\n",
    "<div class=\"stylefig\">\n",
    "\n",
    "### Figure 1\n",
    "\n",
    "<a href=\"https://raw.githubusercontent.com/jonescompneurolab/hnn-tutorials/master/alpha_and_beta/images/image3.png\"><img class=\"imgcenter100\" src=\"https://raw.githubusercontent.com/jonescompneurolab/hnn-tutorials/master/alpha_and_beta/images/image3.png\" alt=\"image8\" style=\"max-width:650px;\"/></a>\n",
    "\n",
    "<p style=\"text-align:justify;\">  Left: Spectrogram of spontaneous activity from current dipole source in SI averaged across 100 trials, from an example subject, shows nearly continuous prestimulus alpha and beta oscillations. At time zero, a brief tap was given to the contralateral finger tip and the spontaneous oscillations briefly desynchronized.\n",
    "\n",
    "Right: A closer look at the prestimulus waveform and spectrogram from spontaneous activity during example signal trials, shows that the alpha and beta oscillations occur intermittently and primarily non-overlapping. </p>\n",
    "</div>\n",
    "\n",
    "Our goal was to use our neocortical model to reproduce features of the waveform and spectrogram observed on single unaveraged trials (Figure 2 top panel, right) where the alpha and beta components emerge briefly and intermittently in time. On any individual trial (i.e., 1 second of spontaneous data), the presence of alpha and beta activity is not time locked and representative of so-called “induced” activity. Seemingly continuous bands of activity occur only when averaging the spectrograms across trials (Figure 2 top panel, left), and this is due to the fact that the spectrograms values are strictly positive and the alpha and beta events accumulate without cancellation [4].\n",
    "\n",
    "<div class=\"stylefig\">\n",
    "\n",
    "### Figure 2\n",
    "\n",
    "<a href=\"https://raw.githubusercontent.com/jonescompneurolab/hnn-tutorials/master/alpha_and_beta/images/image29.png\"><img class=\"imgcenter100\" src=\"https://raw.githubusercontent.com/jonescompneurolab/hnn-tutorials/master/alpha_and_beta/images/image29.png\" alt=\"image8\" style=\"max-width:650px;\"/></a>\n",
    "\n",
    "<p style=\"text-align:justify;\"> Key features of the spontaneous non-average SI alpha/beta complex include, intermittent transient bouts of alpha/beta activity, a waveform that oscillates around 0nAm, PSD with peaks in the alpha and beta bands, primarily non-overlapping alpha and beta events, and a symmetric waveform oscillation. The model was able to reproduce each of these features. </p>\n",
    "</div>\n",
    "\n",
    "We found that a sequence of exogenous subthreshold excitatory synaptic drive could activate the network in a manner that reproduced important features of the SI rhythms in the model (Figure 2). This drive consisted of two nearly-synchronous 10 Hz rhythmic drives that contacted the network through proximal and distal projection pathways (Figure 3). The drives were simulated as population “bursts” of action potentials that contacted the network every 100ms with the mean delay between the proximal and distal burst of 0ms. Specifically, as shown schematically in Figure 3, the population bursts consisted of 10, 2-spike bursts Gaussian distributed in time. We presumed that during such spontaneous activity, these drives may be provided by leminscial and non-lemniscal thalamic nuclei, which contact proximal and distal pyramidal neurons respectively, and they are know to burst fire at  ~10 Hz frequencies in spontaneous states [5,6].\n",
    "\n",
    "### Figure 3\n",
    "\n",
    "<a href=\"https://raw.githubusercontent.com/jonescompneurolab/hnn-tutorials/master/alpha_and_beta/images/image4.png\"><img class=\"imgcenter100\" src=\"https://raw.githubusercontent.com/jonescompneurolab/hnn-tutorials/master/alpha_and_beta/images/image4.png\" alt=\"image8\" style=\"max-width:650px;\"/></a>\n",
    "\n",
    "<p style=\"text-align:justify;\"> Schematic illustration of exogenous 10 Hz burst drive through proximal and distal projection pathways.  “Population bursts”, consisting of a set number of “burst units” (10, 2-spike bursts shown) drive post-synaptic conductances in the local network with a set frequency (100 ms ISI) and mean delay between proximal and distal. </p>\n",
    "</div>\n",
    "\n",
    "We assumed that the macroscale rhythms generating the observed alpha and beta activity arose from subthreshold current flow in a large population of neurons, as opposed to being generated by local spiking interaction. As such, the effective strengths of the exogenous driving inputs were tuned so that the cells in the network remained subthreshold (all other parameters were tuned and fixed base on the morphology, physiology and connectivity within layered neocortical circuits, see Jones et al. 2009 [1] for details). The inputs drove subthreshold currents up and down the pyramidal neurons to reproduce accurate waveform and spectrogram features (see Figure 3). A scaling factor of 3000 was multiplied by the model waveform to reproduce nAm units comparable to the recorded data, suggesting on the order 200 x 3000 = 600,000 pyramidal neurons contributed to this signal.\n",
    "\n",
    "We further found that decreasing the delay between the drives to ~50ms created a pure alpha oscillation, while applying an ~0ms delay caused beta events to emerge and increased the strength of the distal drive, creating stronger beta activity (data not shown; see parameter exploration below). This result led to the novel prediction that brief beta events emerge from a broad proximal drive disrupted by a simultaneous strong distal drive that lasted 50ms (i.e., one beta period). Support for this prediction was found invasively with laminar recordings in mice and monkeys [3].\n",
    "\n",
    "In this tutorial, we will explore parameter changes that illustrate these results. We will walk you step-by-step through simulations with various combinations of rhythmic proximal and distal drives to describe how each contributes to the alpha and beta components of the SI alpha/beta complex rhythm. We will begin by simulating only rhythmic proximal alpha frequency inputs (Step 1), followed by simulating only distal alpha frequency inputs (Step 2), followed by various combinations of proximal and distal drive to generate alpha and beta rhythms. We’ll show you how HNN can plot waveforms, time-frequency spectrograms, and power spectral density plots of the simulated data, as well as for imported recorded data.\n",
    "\n",
    "### References\n",
    "1. Jones, S. R. et al.Quantitative analysis and biophysically realistic neural modeling of the MEG mu rhythm: rhythmogenesis and modulation of sensory-evoked responses. J. Neurophysiol. 102, 3554–3572 (2009).\n",
    "\n",
    "2. Ziegler, D. A. et al.Transformations in oscillatory activity and evoked responses in primary somatosensory cortex in middle age: a combined computational neural modeling and MEG study. Neuroimage 52, 897–912 (2010).\n",
    "\n",
    "3. Sherman, M. A. et al.Neural mechanisms of transient neocortical beta rhythms: Converging evidence from humans, computational modeling, monkeys, and mice. Proc. Natl. Acad. Sci. U. S. A. 113, E4885–94 (2016).\n",
    "\n",
    "4. Jones, S. R. When brain rhythms aren’t ‘rhythmic’: implication for their mechanisms and meaning. Curr. Opin. Neurobiol. 40, 72–80 (2016).\n",
    "\n",
    "5. Jones, E. G. The thalamic matrix and thalamocortical synchrony. Trends Neurosci. 24, 595–601 (2001).\n",
    "\n",
    "6. Hughes, S. W. & Crunelli, V. Thalamic mechanisms of EEG alpha rhythms and their pathological implications. Neuroscientist 11, 357–372 (2005).\n"
   ]
  },
  {
   "cell_type": "markdown",
   "metadata": {},
   "source": [
    "## 0. Importing python libraries and loading data"
   ]
  },
  {
   "cell_type": "code",
   "execution_count": null,
   "metadata": {},
   "outputs": [],
   "source": [
    "import os.path as op\n",
    "\n",
    "import numpy as np\n",
    "import matplotlib.pyplot as plt\n",
    "\n",
    "import hnn_core\n",
    "from hnn_core import jones_2009_model, simulate_dipole, MPIBackend, JoblibBackend, average_dipoles\n",
    "from hnn_core.viz import plot_dipole, plot_tfr_morlet"
   ]
  },
  {
   "cell_type": "markdown",
   "metadata": {},
   "source": [
    "## 1. Simulating Rhythmic Proximal Inputs: Alpha Only\n",
    "\n",
    "As described in the introduction, low-frequency alpha and beta rhythms can be simulated by a combination of rhythmic subthreshold proximal and distal ~10Hz inputs. Here, we begin by describing the impact of proximal inputs only.\n",
    "\n",
    "### 1.1 Define network and drives\n",
    "Let's start with instantiating our network. "
   ]
  },
  {
   "cell_type": "code",
   "execution_count": null,
   "metadata": {},
   "outputs": [],
   "source": [
    "net = jones_2009_model()"
   ]
  },
  {
   "cell_type": "markdown",
   "metadata": {},
   "source": [
    "There are AMPA and NMDA receptors on each cell type (pyramidal and basket cells). There is also a delay parameter to control the arrival time of each spike to the network. In this example, the delay to the layer 2/3 cells is 0.1 ms, with a slightly longer delay to the layer 5 cells of 1 ms."
   ]
  },
  {
   "cell_type": "code",
   "execution_count": null,
   "metadata": {},
   "outputs": [],
   "source": [
    "weights_ampa_p = {'L2_pyramidal': 5.4e-5, 'L5_pyramidal': 5.4e-5}\n",
    "syn_delays_p = {'L2_pyramidal': 0.1, 'L5_pyramidal': 1.0}"
   ]
  },
  {
   "cell_type": "markdown",
   "metadata": {},
   "source": [
    "The rhythmic proximal inputs drive excitatory synapses in the neocortical network in a proximal projection pattern, as shown at the bottom of the dialog box. For further details on the connectivity structure of the network, see the Under the Hoodsection of the HNN website. Rhythmic proximal input occurs through stochastic, presynaptic bursts of action potentials from a population of bursting cells (set with “Number bursts”; see Figure 3) onto postsynaptic neurons of the modelled network. Stochasticity is introduced in two places: the spike train start time for each bursting cell is sampled from a normal distribution with mean “Start time mean (ms)” and standard deviation “Start time stdev (ms)” and the inter-burst intervals for each bursting cell are sampled from a normal distribution of mean $\\frac{1}{\\mathrm{\"Burst Frequency\"}}$ (e.g., a 100 ms inter-burst interval corresponds to a “Burst frequency” of 10 Hz) and standard deviation “Burst stdev (ms)” (see Figure 3). Also note that the number of spikes per burst unit is set with “Spikes/burst” (currently, only values of 1 and 2 with a fixed 10ms delay can be used) and the final stop time for the entire population of rhythmic proximal inputs is set with “Stop time (ms)”."
   ]
  },
  {
   "cell_type": "code",
   "execution_count": null,
   "metadata": {},
   "outputs": [],
   "source": [
    "net.add_bursty_drive(\n",
    "    'alpha_prox', tstart=50., burst_rate=10, burst_std=20, numspikes=2,\n",
    "    spike_isi=10, n_drive_cells=10, location='proximal',\n",
    "    weights_ampa=weights_ampa_p, synaptic_delays=syn_delays_p, event_seed=14)"
   ]
  },
  {
   "cell_type": "markdown",
   "metadata": {},
   "source": [
    "We can check that the drives have been added by looking at"
   ]
  },
  {
   "cell_type": "code",
   "execution_count": null,
   "metadata": {},
   "outputs": [],
   "source": [
    "net.external_drives"
   ]
  },
  {
   "cell_type": "markdown",
   "metadata": {},
   "source": [
    "### 1.2 Run the simulation and visualize net current dipole\n",
    "Now, we simulate the dipole with just one trial for now"
   ]
  },
  {
   "cell_type": "code",
   "execution_count": null,
   "metadata": {},
   "outputs": [],
   "source": [
    "dpl = simulate_dipole(net, tstop=710., n_trials=1)"
   ]
  },
  {
   "cell_type": "markdown",
   "metadata": {},
   "source": [
    "The simulation is a bit slow. If we want to speed it up, we can use MPI. It's a protocol that splits the simulation across neurons. You might need to follow a few extra installation steps to install MPI dependencies if you wish to run `MPIBackend` on your machine (see [here](https://jonescompneurolab.github.io/hnn-core/stable/parallel.html))."
   ]
  },
  {
   "cell_type": "code",
   "execution_count": null,
   "metadata": {},
   "outputs": [],
   "source": [
    "# simulate dipole with a specific parallel backend (1 trial)\n",
    "# we'll use MPIBackend for the remainder of this tutorial as it is the fastest\n",
    "with MPIBackend(n_procs=4):\n",
    "    dpls = simulate_dipole(net, tstop=170., n_trials=1)\n",
    "    \n",
    "# If you don't have the OpenMPI and mpi4py installed on you machine,\n",
    "# you can alternatively use JoblibBackend (uncomment lines below)\n",
    "# with JoblibBackend(n_jobs=1):\n",
    "#    dpls = simulate_dipole(net, tstop=170., n_trials=1)"
   ]
  },
  {
   "cell_type": "markdown",
   "metadata": {},
   "source": [
    "In this parameter set, a burst of proximal input spikes is provided to the network ~10 Hz (i.e., every 100 ms). Due to the stochastic nature of the inputs (controlled by the start time stdev and Burst stdev parameters, there is some variability in the histogram of proximal input times. Note that a decrease in the Burst stdev would create shorter duration bursts (i.e., more synchronous bursts); this will be explored further in step 6.1 below.\n",
    "\n",
    "The ~10 Hz bursts of proximal drive induces current flow up the pyramidal neuron dendrites increasing the signal above the 0 nAm baseline, which then relaxes back to zero, approximately every 100 ms. This is observed in the black current dipole waveform in the GUI window. The middle panel shows the corresponding time-frequency spectrogram for this waveform that exhibits a high-power continuous 10 Hz signal. Importantly, in this example the strength of the proximal input was titrated to be subthreshold (i.e., cells do not spike) under the assumption that macroscale oscillations are generated primarily by subthreshold current flow across large populations of synchronous pyramidal neurons. In step 6.2 below, we explore differences in the signal when the cells are driven to spike (see also ERP tutorial).\n",
    "\n",
    "While this exploration with proximal drive is only useful in understanding how subthreshold rhythmic inputs impact the current dipole produced by the circuit, several features of the waveform and spectrogram of the signal do not match the recorded data shown in Figures 1and 2. Next, we explore the impact of rhythmic distal inputs only (step 2), and then a combination of the two (step 3)."
   ]
  },
  {
   "cell_type": "markdown",
   "metadata": {},
   "source": [
    "## 2. Simulating Rhythmic Distal Inputs: Alpha Only\n",
    "Having seen that proximal inputs alone push the current flow only in a single direction (positive), we can confirm that the same occurs if we provide only rhythmic distal inputs, which drive current flow in the pyramidal neuron dendrites, and hence current dipole signal, in the opposite direction (negative).\n",
    "\n",
    "### 2.1 Define network and drives\n",
    "We begin again by instantiating the network."
   ]
  },
  {
   "cell_type": "code",
   "execution_count": null,
   "metadata": {},
   "outputs": [],
   "source": [
    "net = jones_2009_model()"
   ]
  },
  {
   "cell_type": "code",
   "execution_count": null,
   "metadata": {},
   "outputs": [],
   "source": [
    "weights_ampa_d = {'L2_pyramidal': 5.4e-5, 'L5_pyramidal': 5.4e-5}\n",
    "syn_delays_d = {'L2_pyramidal': 5.0, 'L5_pyramidal': 5.0}\n",
    "\n",
    "net.add_bursty_drive(\n",
    "    'alpha_dist', tstart=50.0, burst_rate=10, burst_std=20, numspikes=2,\n",
    "    spike_isi=10, n_drive_cells=10, location='distal',\n",
    "    weights_ampa=weights_ampa_d, synaptic_delays=syn_delays_d, event_seed=14) # Need different seed?"
   ]
  },
  {
   "cell_type": "markdown",
   "metadata": {},
   "source": [
    "### 2.2 Run the simulation and visualize net current dipole\n",
    "Now we simulate the dipole."
   ]
  },
  {
   "cell_type": "code",
   "execution_count": null,
   "metadata": {},
   "outputs": [],
   "source": [
    "dpl = simulate_dipole(net, tstop=710., n_trials=1)"
   ]
  },
  {
   "cell_type": "markdown",
   "metadata": {},
   "source": [
    "We can use the in built plotting functions of hnn-core to visualize the simulated dipole."
   ]
  },
  {
   "cell_type": "code",
   "execution_count": null,
   "metadata": {},
   "outputs": [],
   "source": [
    "import matplotlib.pyplot as plt\n",
    "import numpy as np\n",
    "\n",
    "fig, axes = plt.subplots(3, 1, sharex=True, figsize=(7, 7), constrained_layout=True)\n",
    "net.cell_response.plot_spikes_hist(ax=axes[0], show=False)\n",
    "axes[0].set_title('Alpha Generation')\n",
    "plot_dipole(dpl, ax=axes[1], layer='agg', tmin=1.0, show=False)\n",
    "axes[2].set_title('Spectrogram')\n",
    "\n",
    "# Create a fixed-step tiling of frequencies from 1 to 60 Hz in steps of 1 Hz\n",
    "freqs = np.arange(1.0, 60.0, 1.0)\n",
    "dpl[0].plot_tfr_morlet(freqs, n_cycles=7, ax=axes[2])"
   ]
  },
  {
   "cell_type": "markdown",
   "metadata": {},
   "source": [
    "As shown in the green histogram in the top panel of figure above, with this parameter set, a burst of distal input spikes is provided to the network ~10 Hz (i.e., every 100 ms). Due to the stochastic nature of the inputs (controlled by the start time stdev, and Burst stdev parameters), there is some variability in the histogram of proximal input times. The ~10 Hz bursts of distal input induces current flow down the pyramidal neuron dendrites decreasing the signal below the 0 nAm baseline, which then relaxes back to zero, approximately every 100 ms. This is observed in the black current dipole waveform in the figure. The middle panel shows the corresponding time-frequency spectrogram for this waveform that exhibits a high power continuous 10 Hz signal. Importantly, in this example the strength of the distal input was also titrated to be subthreshold (i.e., cells do not spike) under the assumption that macroscale oscillations are generated primarily by subthreshold current flow across large populations of synchronous pyramidal neurons.  \n",
    "\n",
    "While instructional, this simulation also does not produce waveform and spectral features that match the experimental data in Figures 1 and 2. In the next step (step 3), we describe how combining both the 10 Hz proximal and distal drives can produce an oscillation with many characteristic features of the spontaneous SI signal (Jones et al 2009)."
   ]
  },
  {
   "cell_type": "markdown",
   "metadata": {},
   "source": [
    "## 3. Simulating Combined Rhythmic Proximal and Distal Inputs: Alpha/Beta Complex"
   ]
  },
  {
   "cell_type": "code",
   "execution_count": null,
   "metadata": {},
   "outputs": [],
   "source": [
    "net = jones_2009_model()\n",
    "\n",
    "net.add_bursty_drive(\n",
    "    'alpha_prox', tstart=50., burst_rate=10, burst_std=20, numspikes=2,\n",
    "    spike_isi=10, n_drive_cells=10, location='proximal',\n",
    "    weights_ampa=weights_ampa_p, synaptic_delays=syn_delays_p, event_seed=14)\n",
    "\n",
    "net.add_bursty_drive(\n",
    "    'alpha_dist', tstart=50.0, burst_rate=10, burst_std=20, numspikes=2,\n",
    "    spike_isi=10, n_drive_cells=10, location='distal',\n",
    "    weights_ampa=weights_ampa_d, synaptic_delays=syn_delays_d, event_seed=14)"
   ]
  },
  {
   "cell_type": "markdown",
   "metadata": {},
   "source": [
    "### Simulating and averaging multiple trials with jittered start times creates the impression of continuous oscillations"
   ]
  },
  {
   "cell_type": "markdown",
   "metadata": {},
   "source": [
    "## 4. Calculating and Viewing Power Spectral Density (PSD)"
   ]
  },
  {
   "cell_type": "markdown",
   "metadata": {},
   "source": [
    "## 5. Comparing model output and recorded data"
   ]
  },
  {
   "cell_type": "code",
   "execution_count": null,
   "metadata": {},
   "outputs": [],
   "source": [
    "from urllib.request import urlretrieve\n",
    "data_url = ('https://raw.githubusercontent.com/jonescompneurolab/hnn/master/data/MEG_detection_data/S1_ongoing.txt')\n",
    "urlretrieve(data_url, 'S1_ongoing.txt')"
   ]
  },
  {
   "cell_type": "markdown",
   "metadata": {},
   "source": [
    "## 6. Adjusting parameters"
   ]
  },
  {
   "cell_type": "markdown",
   "metadata": {},
   "source": [
    "## 7. Have fun exploring your own data!"
   ]
  }
 ],
 "metadata": {
  "interpreter": {
   "hash": "d0efaeb1f57b331682f483338b2ece2b224a46046d22ccab062f7cb485953279"
  },
  "kernelspec": {
   "display_name": "Python 3.8.3 ('base')",
   "language": "python",
   "name": "python3"
  },
  "language_info": {
   "name": "python",
   "version": "3.8.3"
  },
  "orig_nbformat": 4
 },
 "nbformat": 4,
 "nbformat_minor": 2
}
